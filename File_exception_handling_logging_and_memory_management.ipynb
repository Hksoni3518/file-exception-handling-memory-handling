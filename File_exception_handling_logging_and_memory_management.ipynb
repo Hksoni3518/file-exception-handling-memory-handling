{
  "nbformat": 4,
  "nbformat_minor": 0,
  "metadata": {
    "colab": {
      "provenance": []
    },
    "kernelspec": {
      "name": "python3",
      "display_name": "Python 3"
    },
    "language_info": {
      "name": "python"
    }
  },
  "cells": [
    {
      "cell_type": "markdown",
      "source": [
        "Q. 1. What is the difference between interpreted and compiled languages?\n",
        "\n",
        "  -> Compiler language process source code is translated all at once into machine code by a compiler before execution. It is typically faster. While Interpreted language process source code is translated line-by-line at runtime by an interpreter. It is typically slower due to real-time translation.\n",
        "\n"
      ],
      "metadata": {
        "id": "aq6fQPOeP9Mf"
      }
    },
    {
      "cell_type": "markdown",
      "source": [
        "Q. 2. What is exception handling in Python?\n",
        "\n",
        "  -> Exception handling in Python is a way to manage errors or unexpected situations that occur during the execution of a program, allowing the program to continue running instead of crashing."
      ],
      "metadata": {
        "id": "I0JKiFn0P9PJ"
      }
    },
    {
      "cell_type": "markdown",
      "source": [
        "Q. 3. What is the purpose of the finally block in exception handling?\n",
        "\n",
        "  -> The finally block in Python’s exception handling is used to define code that must run no matter what—whether an exception was raised or not.\n",
        "\n",
        "  Purpose of finally block is ensures that cleanup or final steps always execute."
      ],
      "metadata": {
        "id": "Ybri0_pqP9RW"
      }
    },
    {
      "cell_type": "markdown",
      "source": [
        "Q. 4. What is logging in Python?\n",
        "\n",
        "  -> Logging in Python is the process of recording messages (logs) about a program’s execution. It's a powerful tool for debugging, tracking errors, monitoring application behavior, and auditing."
      ],
      "metadata": {
        "id": "8btw33UAP9UH"
      }
    },
    {
      "cell_type": "markdown",
      "source": [
        "Q.5. What is the significance of the __del__ method in Python?\n",
        "\n",
        "  -> The __del__ method in Python is known as a destructor. It is a special method that gets called automatically when an object is about to be destroyed (i.e., garbage collected).\n",
        "  \n",
        "  Purpose of __del__ to define cleanup behavior just before an object is removed from memory."
      ],
      "metadata": {
        "id": "QOi2GJCPP9Y4"
      }
    },
    {
      "cell_type": "markdown",
      "source": [
        "Q.6. What is the difference between import and from ... import in Python?\n",
        "\n",
        "  -> The import module imports the entire module, and you must prefix everything with the module name. while from import module name imports specific parts of a module directly into your namespace."
      ],
      "metadata": {
        "id": "QmrtcvEzP9g8"
      }
    },
    {
      "cell_type": "markdown",
      "source": [
        "Q.7. How can you handle multiple exceptions in Python?\n",
        "\n",
        "  -> We can handle multiple exception in python using following methods :\n",
        "       (A.) Multiple except block\n",
        "        (B.)Single except block for multiple exception\n",
        "        (C.)catch all except block\n",
        "        (D.)combines with else and finally block"
      ],
      "metadata": {
        "id": "Wixv8FwRP9o9"
      }
    },
    {
      "cell_type": "markdown",
      "source": [
        "Q.8. What is the purpose of the with statement when handling files in Python?\n",
        "\n",
        "  -> The with statement in Python is used to manage resources, especially when working with files. Its main purpose is to ensure that resources are properly cleaned up, like automatically closing a file, even if an error occurs during processing."
      ],
      "metadata": {
        "id": "qc7tcczsP9r0"
      }
    },
    {
      "cell_type": "markdown",
      "source": [
        "Q.9. What is the difference between multithreading and multiprocessing?\n",
        "\n",
        "  -> Multithreading allows multiple threads to run within the same process and share memory. While Multiprocessing creates separate processes, each with its own Python interpreter and memory space."
      ],
      "metadata": {
        "id": "MKNm-qeZVtRo"
      }
    },
    {
      "cell_type": "markdown",
      "source": [
        "Q.10. What are the advantages of using logging in a program?\n",
        "\n",
        "  -> The following advantage of using logging in a program:\n",
        "      (A.)Tracks Program Execution\n",
        "      (B.)Save logs to file\n",
        "      (C.)More control than print()\n",
        "      (D.)Work well in large application\n"
      ],
      "metadata": {
        "id": "IC2E0kUeVtsb"
      }
    },
    {
      "cell_type": "markdown",
      "source": [
        "Q.11. What is memory management in Python?\n",
        "\n",
        "  -> Memory management in Python refers to how Python allocates, tracks, and reclaims memory used by variables, data structures, and objects during program execution. It is mostly handled automatically by Python’s built-in memory manager, allowing developers to focus on writing code rather than worrying about low-level memory operations."
      ],
      "metadata": {
        "id": "jBzZta9RVtt-"
      }
    },
    {
      "cell_type": "markdown",
      "source": [
        "Q.12. What are the basic steps involved in exception handling in Python?\n",
        "\n",
        "  -> In Python, exception handling allows you to manage errors and prevent your program from crashing unexpectedly. Here are the basic steps involved in handling exceptions:\n",
        "\n",
        "  (a.) try block : wrap the risky code (code that might raise an exception) inside a try block.\n",
        "\n",
        "  (b.) catch exception : use one or more except blocks to catch and handle specific exceptions\n",
        "\n",
        "  (c.) else block : use else to define code that should run only if no exception occurs.\n",
        "\n",
        "  (d.) finally block : the finally block contains code that runs no matter what—whether an exception occurred or not."
      ],
      "metadata": {
        "id": "dPW9EjXNVtwK"
      }
    },
    {
      "cell_type": "markdown",
      "source": [
        "Q.13. Why is memory management important in Python?\n",
        "\n",
        "  -> Memory management is crucial in Python because it ensures your program runs efficiently, reliably, and scales well as data or application size grows."
      ],
      "metadata": {
        "id": "xP-MStaJVtzO"
      }
    },
    {
      "cell_type": "markdown",
      "source": [
        "Q.14. What is the role of try and except in exception handling?\n",
        "\n",
        "  -> The try and except blocks are core components of exception handling in Python. Their role is to help you gracefully handle errors during program execution, so your program doesn't crash unexpectedly."
      ],
      "metadata": {
        "id": "Kz_Rc3Y0Vt2A"
      }
    },
    {
      "cell_type": "markdown",
      "source": [
        "Q.15. How does Python's garbage collection system work?\n",
        "\n",
        "  -> Python’s garbage collection system automatically reclaims memory by removing objects that are no longer in use. This allows developers to write code without worrying much about manual memory management."
      ],
      "metadata": {
        "id": "jjUM6O6kVt4P"
      }
    },
    {
      "cell_type": "markdown",
      "source": [
        "Q.16.  What is the purpose of the else block in exception handling?\n",
        "\n",
        "  -> The else block in Python exception handling is used to define code that should run only if no exceptions are raised in the try block."
      ],
      "metadata": {
        "id": "pRk4_0A7Vt6o"
      }
    },
    {
      "cell_type": "markdown",
      "source": [
        "Q.17.  What are the common logging levels in Python?\n",
        "\n",
        "  -> Python’s logging module provides standard logging levels to indicate the severity of events. These levels help control what gets logged depending on the importance of the message.\n",
        "\n",
        "  Here is the common logging levels in python:\n",
        "  1. DEBUG\n",
        "  2. INFO\n",
        "  3. WARNNING\n",
        "  4. ERROR\n",
        "  5. CRITICAL"
      ],
      "metadata": {
        "id": "aOii9gijVt9T"
      }
    },
    {
      "cell_type": "markdown",
      "source": [
        "Q.18. What is the difference between os.fork() and multiprocessing in Python?\n",
        "\n",
        "  -> os.fork() is a low-level system call that creates a new child process by duplicating the current process. It is used in systems programming and advanced process management. While multiprocessing is a high-level module for creating and managing separate processes. It is ideal for CPU-bound tasks and parallel computing."
      ],
      "metadata": {
        "id": "Wkc05ohVVt_p"
      }
    },
    {
      "cell_type": "markdown",
      "source": [
        "Q.19. What is the importance of closing a file in Python?\n",
        "\n",
        "  -> Closing a file in Python is essential because it :    \n",
        "\n",
        "      a. Free system resourse\n",
        "      b. Ensure data is written\n",
        "      c. Prevent file corruption\n",
        "      d. Avoid file access issue\n",
        "      e. Best practice for clean code"
      ],
      "metadata": {
        "id": "3iI5CbujVuCF"
      }
    },
    {
      "cell_type": "markdown",
      "source": [
        "Q.20. What is the difference between file.read() and file.readline() in Python?\n",
        "\n",
        "  -> file.read() reads the entire file (or a specified number of characters) at once. It returns it as a single string. While file.readline() reads only one line at a time from the file. Each call returns the next line as a string (including the newline character \\n if present)."
      ],
      "metadata": {
        "id": "GfjRrFCAVuEi"
      }
    },
    {
      "cell_type": "markdown",
      "source": [
        "Q.21.  What is the logging module in Python used for?\n",
        "\n",
        "  -> The logging module in Python is used to record (log) messages from your program during its execution. It provides a flexible system for capturing information such as errors, warnings, or diagnostic messages — without using print() statements."
      ],
      "metadata": {
        "id": "YNomYxmUVuG2"
      }
    },
    {
      "cell_type": "markdown",
      "source": [
        "Q.22. What is the os module in Python used for in file handling?\n",
        "\n",
        "  -> The os module in Python provides functions to interact with the operating system, especially for tasks like file and directory handling. It acts as a bridge between Python and the underlying OS for performing common file operations."
      ],
      "metadata": {
        "id": "E4QQIm7uVuKj"
      }
    },
    {
      "cell_type": "markdown",
      "source": [
        "Q.23. What are the challenges associated with memory management in Python?\n",
        "\n",
        "  -> Memory management in Python is mostly automatic thanks to its built-in garbage collector, but there are still several challenges and pitfalls developers may face:\n",
        "\n",
        "    1. Reference cycles\n",
        "    2. Memory leaks\n",
        "    3. Large Object Retention\n",
        "    4. Memory fragmentation\n",
        "    5. Debugging"
      ],
      "metadata": {
        "id": "g6H6xTQ5VuQU"
      }
    },
    {
      "cell_type": "markdown",
      "source": [
        "Q.24. How do you raise an exception manually in Python?\n",
        "\n",
        "  -> In Python, you can raise an exception manually using the raise statement. This is useful when you want to signal that an error or exceptional condition has occurred, even if Python wouldn’t raise it automatically."
      ],
      "metadata": {
        "id": "ELUD8f3tVuSP"
      }
    },
    {
      "cell_type": "markdown",
      "source": [
        "Q.25. Why is it important to use multithreading in certain applications?\n",
        "\n",
        "  -> Multithreading is important in certain applications because it allows a program to perform multiple operations concurrently, which can improve performance, responsiveness, and resource utilization — especially in I/O-bound tasks."
      ],
      "metadata": {
        "id": "GTXtskjaVuUp"
      }
    },
    {
      "cell_type": "markdown",
      "source": [
        "# Practicle Question"
      ],
      "metadata": {
        "id": "Oj7zCIdLVuW8"
      }
    },
    {
      "cell_type": "code",
      "source": [
        "# 1. How can you open a file for writing in Python and write a string to it?\n",
        "\n",
        "with open(\"example.txt\", \"w\") as file:\n",
        "    file.write(\"Hello, world!\")\n"
      ],
      "metadata": {
        "id": "jfZfZA-x477C"
      },
      "execution_count": null,
      "outputs": []
    },
    {
      "cell_type": "code",
      "source": [
        "# 2. Write a Python program to read the contents of a file and print each line.\n",
        "\n",
        "filename = \"example.txt\"\n",
        "\n",
        "try:\n",
        "    with open(filename, \"r\") as file:\n",
        "        for line in file:\n",
        "            print(line, end=\"\")\n",
        "except FileNotFoundError:\n",
        "    print(f\"The file '{filename}' was not found.\")\n"
      ],
      "metadata": {
        "colab": {
          "base_uri": "https://localhost:8080/"
        },
        "id": "L-c8Yu7348LF",
        "outputId": "7e36141f-3ff0-4c64-c649-1fc44d29a933"
      },
      "execution_count": null,
      "outputs": [
        {
          "output_type": "stream",
          "name": "stdout",
          "text": [
            "Hello, world!"
          ]
        }
      ]
    },
    {
      "cell_type": "code",
      "source": [
        "# 3. How would you handle a case where the file doesn't exist while trying to open it for reading?\n",
        "\n",
        "filename = \"nonexistent_file.txt\"\n",
        "\n",
        "try:\n",
        "    with open(filename, \"r\") as file:\n",
        "        contents = file.read()\n",
        "        print(contents)\n",
        "except FileNotFoundError:\n",
        "    print(f\"Error: The file '{filename}' does not exist.\")\n"
      ],
      "metadata": {
        "colab": {
          "base_uri": "https://localhost:8080/"
        },
        "id": "v4k-sHZP5mCt",
        "outputId": "2e3ed46b-d117-4dc3-e491-4c5705b8df98"
      },
      "execution_count": null,
      "outputs": [
        {
          "output_type": "stream",
          "name": "stdout",
          "text": [
            "Error: The file 'nonexistent_file.txt' does not exist.\n"
          ]
        }
      ]
    },
    {
      "cell_type": "code",
      "source": [
        "# 4. Write a Python script that reads from one file and writes its content to another file?\n",
        "\n",
        "source_file = \"source.txt\"\n",
        "destination_file = \"destination.txt\"\n",
        "\n",
        "try:\n",
        "    with open(source_file, \"r\") as src:\n",
        "        content = src.read()\n",
        "\n",
        "    with open(destination_file, \"w\") as dst:\n",
        "        dst.write(content)\n",
        "\n",
        "    print(f\"Content copied from '{source_file}' to '{destination_file}'.\")\n",
        "\n",
        "except FileNotFoundError:\n",
        "    print(f\"Error: The file '{source_file}' was not found.\")\n",
        "except IOError as e:\n",
        "    print(f\"An I/O error occurred: {e}\")\n"
      ],
      "metadata": {
        "colab": {
          "base_uri": "https://localhost:8080/"
        },
        "id": "tnWP7wSv52ih",
        "outputId": "fe7b0efc-7ff5-473b-fc17-5a402cd8beb6"
      },
      "execution_count": null,
      "outputs": [
        {
          "output_type": "stream",
          "name": "stdout",
          "text": [
            "Error: The file 'source.txt' was not found.\n"
          ]
        }
      ]
    },
    {
      "cell_type": "code",
      "source": [
        "# 5. How would you catch and handle division by zero error in Python?\n",
        "\n",
        "try:\n",
        "    result = 10 / 0\n",
        "except ZeroDivisionError:\n",
        "    print(\"Error: Cannot divide by zero.\")\n",
        "else:\n",
        "    print(\"The result is:\", result)\n",
        "finally:\n",
        "    print(\"This block always runs.\")"
      ],
      "metadata": {
        "colab": {
          "base_uri": "https://localhost:8080/"
        },
        "id": "KRKC3_jMePxk",
        "outputId": "d53fe3c4-d2d9-42b5-9484-daa142cceafa"
      },
      "execution_count": 1,
      "outputs": [
        {
          "output_type": "stream",
          "name": "stdout",
          "text": [
            "Error: Cannot divide by zero.\n",
            "This block always runs.\n"
          ]
        }
      ]
    },
    {
      "cell_type": "code",
      "source": [
        "# 6. Write a Python program that logs an error message to a log file when a division by zero exception occurs.\n",
        "\n",
        "import logging\n",
        "\n",
        "logging.basicConfig(\n",
        "    filename='error.log',\n",
        "    level=logging.ERROR,\n",
        "    format='%(asctime)s - %(levelname)s - %(message)s'\n",
        ")\n",
        "\n",
        "def divide(a, b):\n",
        "    try:\n",
        "        return a / b\n",
        "    except ZeroDivisionError as e:\n",
        "        logging.error(\"Attempted to divide by zero. Inputs: a=%s, b=%s\", a, b)\n",
        "        print(\"An error occurred: cannot divide by zero.\")\n",
        "        return None\n",
        "\n",
        "num1 = 10\n",
        "num2 = 0\n",
        "\n",
        "result = divide(num1, num2)\n"
      ],
      "metadata": {
        "colab": {
          "base_uri": "https://localhost:8080/"
        },
        "id": "VtUEcguXeQtj",
        "outputId": "5362e23e-1897-4472-d519-8de7fa54de48"
      },
      "execution_count": 2,
      "outputs": [
        {
          "output_type": "stream",
          "name": "stderr",
          "text": [
            "ERROR:root:Attempted to divide by zero. Inputs: a=10, b=0\n"
          ]
        },
        {
          "output_type": "stream",
          "name": "stdout",
          "text": [
            "An error occurred: cannot divide by zero.\n"
          ]
        }
      ]
    },
    {
      "cell_type": "code",
      "source": [
        "# 7. How do you log information at different levels (INFO, ERROR, WARNING) in Python using the logging module?\n",
        "\n",
        "import logging\n",
        "\n",
        "logging.basicConfig(\n",
        "    filename='app.log',\n",
        "    level=logging.DEBUG,\n",
        "    format='%(asctime)s - %(levelname)s - %(message)s'\n",
        ")\n",
        "\n",
        "logging.debug(\"This is a DEBUG message\")\n",
        "logging.info(\"This is an INFO message\")\n",
        "logging.warning(\"This is a WARNING message\")\n",
        "logging.error(\"This is an ERROR message\")\n",
        "logging.critical(\"This is a CRITICAL message\")\n"
      ],
      "metadata": {
        "colab": {
          "base_uri": "https://localhost:8080/"
        },
        "id": "iUbXpfuXeQ22",
        "outputId": "fa8f37a9-f22c-4076-f97d-4726cab35e99"
      },
      "execution_count": 3,
      "outputs": [
        {
          "output_type": "stream",
          "name": "stderr",
          "text": [
            "WARNING:root:This is a WARNING message\n",
            "ERROR:root:This is an ERROR message\n",
            "CRITICAL:root:This is a CRITICAL message\n"
          ]
        }
      ]
    },
    {
      "cell_type": "code",
      "source": [
        "# 8. Write a program to handle a file opening error using exception handling?\n",
        "\n",
        "def read_file(filename):\n",
        "    try:\n",
        "        with open(filename, 'r') as file:\n",
        "            content = file.read()\n",
        "            print(\"File contents:\\n\", content)\n",
        "    except FileNotFoundError:\n",
        "        print(f\"Error: The file '{filename}' was not found.\")\n",
        "    except PermissionError:\n",
        "        print(f\"Error: You do not have permission to read the file '{filename}'.\")\n",
        "    except Exception as e:\n",
        "        print(f\"An unexpected error occurred: {e}\")\n",
        "\n",
        "file_name = input(\"Enter the name of the file to open: \")\n",
        "read_file(file_name)\n"
      ],
      "metadata": {
        "colab": {
          "base_uri": "https://localhost:8080/"
        },
        "id": "bgY63yfReQ_F",
        "outputId": "40d5f647-6a43-49e0-cbde-4d91c657ba59"
      },
      "execution_count": 4,
      "outputs": [
        {
          "output_type": "stream",
          "name": "stdout",
          "text": [
            "Enter the name of the file to open: hello.txt\n",
            "Error: The file 'hello.txt' was not found.\n"
          ]
        }
      ]
    },
    {
      "cell_type": "code",
      "source": [
        "# 9. How can you read a file line by line and store its content in a list in Python?\n",
        "\n",
        "def read_file_lines(filename):\n",
        "    try:\n",
        "        with open(filename, 'r') as file:\n",
        "            lines = file.readlines()\n",
        "            return [line.strip() for line in lines]  #\n",
        "    except FileNotFoundError:\n",
        "        print(f\"Error: File '{filename}' not found.\")\n",
        "        return []\n",
        "    except Exception as e:\n",
        "        print(f\"Error: {e}\")\n",
        "        return []\n",
        "\n",
        "file_name = \"example.txt\"\n",
        "lines_list = read_file_lines(file_name)\n",
        "print(lines_list)\n"
      ],
      "metadata": {
        "colab": {
          "base_uri": "https://localhost:8080/"
        },
        "id": "dnuZKeP_eRCa",
        "outputId": "80489b92-5d7d-4cc7-ae6f-d43314bf8136"
      },
      "execution_count": 5,
      "outputs": [
        {
          "output_type": "stream",
          "name": "stdout",
          "text": [
            "Error: File 'example.txt' not found.\n",
            "[]\n"
          ]
        }
      ]
    },
    {
      "cell_type": "code",
      "source": [
        "# 10. How can you append data to an existing file in Python?\n",
        "\n",
        "def append_to_file(filename, data):\n",
        "    try:\n",
        "        with open(filename, 'a') as file:\n",
        "            file.write(data + '\\n')\n",
        "        print(\"Data appended successfully.\")\n",
        "    except Exception as e:\n",
        "        print(f\"An error occurred: {e}\")\n",
        "\n",
        "append_to_file('example.txt', 'This is a new line.')\n"
      ],
      "metadata": {
        "colab": {
          "base_uri": "https://localhost:8080/"
        },
        "id": "OXOjJ3WKeRFS",
        "outputId": "1081459a-8b37-4419-9c3c-5bb31caafc7e"
      },
      "execution_count": 6,
      "outputs": [
        {
          "output_type": "stream",
          "name": "stdout",
          "text": [
            "Data appended successfully.\n"
          ]
        }
      ]
    },
    {
      "cell_type": "code",
      "source": [
        "# 11. Write a Python program that uses a try-except block to handle an error when attempting to access a\n",
        "#     dictionary key that doesn't exist.\n",
        "\n",
        "def get_value_from_dict(my_dict, key):\n",
        "    try:\n",
        "        value = my_dict[key]\n",
        "        print(f\"The value for '{key}' is: {value}\")\n",
        "    except KeyError:\n",
        "        print(f\"Error: The key '{key}' does not exist in the dictionary.\")\n",
        "    except Exception as e:\n",
        "        print(f\"An unexpected error occurred: {e}\")\n",
        "\n",
        "my_dictionary = {\n",
        "    \"name\": \"Alice\",\n",
        "    \"age\": 30,\n",
        "    \"city\": \"New York\"\n",
        "}\n",
        "\n",
        "key_to_lookup = input(\"Enter the key you want to access: \")\n",
        "get_value_from_dict(my_dictionary, key_to_lookup)\n"
      ],
      "metadata": {
        "colab": {
          "base_uri": "https://localhost:8080/"
        },
        "id": "QOvIehlpeRH6",
        "outputId": "e7980806-a891-4fb6-8918-7d6ad7f90a6c"
      },
      "execution_count": 7,
      "outputs": [
        {
          "output_type": "stream",
          "name": "stdout",
          "text": [
            "Enter the key you want to access: age\n",
            "The value for 'age' is: 30\n"
          ]
        }
      ]
    },
    {
      "cell_type": "code",
      "source": [
        "# 12. Write a program that demonstrates using multiple except blocks to handle different types of exceptions.\n",
        "\n",
        "def example_program():\n",
        "    my_dict = {'name': 'Alice', 'age': 30}\n",
        "\n",
        "    try:\n",
        "        # Get user input and convert to integer\n",
        "        number = int(input(\"Enter a number to divide 100 by: \"))\n",
        "\n",
        "        # Perform division\n",
        "        result = 100 / number\n",
        "        print(\"Result of division:\", result)\n",
        "\n",
        "        # Try to access a key from dictionary\n",
        "        key = input(\"Enter a key to lookup in the dictionary: \")\n",
        "        print(\"Value:\", my_dict[key])\n",
        "\n",
        "    except ZeroDivisionError:\n",
        "        print(\"Error: You cannot divide by zero.\")\n",
        "\n",
        "    except ValueError:\n",
        "        print(\"Error: Please enter a valid integer.\")\n",
        "\n",
        "    except KeyError:\n",
        "        print(\"Error: The specified key does not exist in the dictionary.\")\n",
        "\n",
        "    except Exception as e:\n",
        "        print(f\"An unexpected error occurred: {e}\")\n",
        "\n",
        "\n",
        "example_program()\n"
      ],
      "metadata": {
        "colab": {
          "base_uri": "https://localhost:8080/"
        },
        "id": "fiPn_ukVeRM-",
        "outputId": "741181e4-4ffa-4476-c21a-4092ff4ea3f4"
      },
      "execution_count": 8,
      "outputs": [
        {
          "output_type": "stream",
          "name": "stdout",
          "text": [
            "Enter a number to divide 100 by: 5\n",
            "Result of division: 20.0\n",
            "Enter a key to lookup in the dictionary: address\n",
            "Error: The specified key does not exist in the dictionary.\n"
          ]
        }
      ]
    },
    {
      "cell_type": "code",
      "source": [
        "# 13. How would you check if a file exists before attempting to read it in Python?\n",
        "\n",
        "import os\n",
        "\n",
        "filename = 'example.txt'\n",
        "\n",
        "if os.path.exists(filename):\n",
        "    with open(filename, 'r') as file:\n",
        "        content = file.read()\n",
        "        print(content)\n",
        "else:\n",
        "    print(f\"File '{filename}' does not exist.\")\n"
      ],
      "metadata": {
        "colab": {
          "base_uri": "https://localhost:8080/"
        },
        "id": "OKhnq5RfeRQc",
        "outputId": "0bd5f0fc-77bc-4cef-8209-3e3396483431"
      },
      "execution_count": 10,
      "outputs": [
        {
          "output_type": "stream",
          "name": "stdout",
          "text": [
            "This is a new line.\n",
            "\n"
          ]
        }
      ]
    },
    {
      "cell_type": "code",
      "source": [
        "# 14. Write a program that uses the logging module to log both informational and error messages.\n",
        "\n",
        "import logging\n",
        "\n",
        "logging.basicConfig(\n",
        "    filename='app.log',\n",
        "    level=logging.DEBUG,\n",
        "    format='%(asctime)s - %(levelname)s - %(message)s'\n",
        ")\n",
        "\n",
        "def divide(a, b):\n",
        "    try:\n",
        "        logging.info(f\"Attempting to divide {a} by {b}\")\n",
        "        result = a / b\n",
        "        logging.info(f\"Division successful: {a} / {b} = {result}\")\n",
        "        return result\n",
        "    except ZeroDivisionError:\n",
        "        logging.error(\"Division by zero attempted.\")\n",
        "        return None\n",
        "    except Exception as e:\n",
        "        logging.error(f\"An unexpected error occurred: {e}\")\n",
        "        return None\n",
        "\n",
        "divide(10, 2)   # Info log\n",
        "divide(10, 0)   # Error log\n"
      ],
      "metadata": {
        "colab": {
          "base_uri": "https://localhost:8080/"
        },
        "id": "CMcW6vlbeRTL",
        "outputId": "32424b6b-53e3-44d5-fb9d-feb0640abe97"
      },
      "execution_count": 11,
      "outputs": [
        {
          "output_type": "stream",
          "name": "stderr",
          "text": [
            "ERROR:root:Division by zero attempted.\n"
          ]
        }
      ]
    },
    {
      "cell_type": "code",
      "source": [
        "# 15. Write a Python program that prints the content of a file and handles the case when the file is empty.\n",
        "\n",
        "def print_file_contents(filename):\n",
        "    try:\n",
        "        with open(filename, 'r') as file:\n",
        "            content = file.read()\n",
        "\n",
        "            if not content.strip():  # Check if file is empty or whitespace-only\n",
        "                print(f\"The file '{filename}' is empty.\")\n",
        "            else:\n",
        "                print(f\"Contents of '{filename}':\\n\")\n",
        "                print(content)\n",
        "\n",
        "    except FileNotFoundError:\n",
        "        print(f\"Error: The file '{filename}' does not exist.\")\n",
        "    except Exception as e:\n",
        "        print(f\"An unexpected error occurred: {e}\")\n",
        "\n",
        "file_name = input(\"Enter the file name: \")\n",
        "print_file_contents(file_name)\n"
      ],
      "metadata": {
        "colab": {
          "base_uri": "https://localhost:8080/"
        },
        "id": "9Lj9ZyLeeRWU",
        "outputId": "a047151b-17ab-4dfb-cde0-1634c3fe6b40"
      },
      "execution_count": 12,
      "outputs": [
        {
          "output_type": "stream",
          "name": "stdout",
          "text": [
            "Enter the file name: example.txt\n",
            "Contents of 'example.txt':\n",
            "\n",
            "This is a new line.\n",
            "\n"
          ]
        }
      ]
    },
    {
      "cell_type": "code",
      "source": [
        "# 16. Demonstrate how to use memory profiling to check the memory usage of a small program.\n",
        "\n",
        "from memory_profiler import profile\n",
        "\n",
        "@profile\n",
        "def create_large_list():\n",
        "    print(\"Creating a large list...\")\n",
        "    big_list = [x * 2 for x in range(1000000)]\n",
        "    return big_list\n",
        "\n",
        "if __name__ == '__main__':\n",
        "    create_large_list()\n"
      ],
      "metadata": {
        "colab": {
          "base_uri": "https://localhost:8080/",
          "height": 384
        },
        "id": "CPz5O9lKeRZJ",
        "outputId": "9af89d03-7e0d-4173-e2eb-f526e0a8a636"
      },
      "execution_count": 16,
      "outputs": [
        {
          "output_type": "error",
          "ename": "ModuleNotFoundError",
          "evalue": "No module named 'memory_profiler'",
          "traceback": [
            "\u001b[0;31m---------------------------------------------------------------------------\u001b[0m",
            "\u001b[0;31mModuleNotFoundError\u001b[0m                       Traceback (most recent call last)",
            "\u001b[0;32m/tmp/ipython-input-16-2047660269.py\u001b[0m in \u001b[0;36m<cell line: 0>\u001b[0;34m()\u001b[0m\n\u001b[1;32m      1\u001b[0m \u001b[0;31m# 16. Demonstrate how to use memory profiling to check the memory usage of a small program.\u001b[0m\u001b[0;34m\u001b[0m\u001b[0;34m\u001b[0m\u001b[0m\n\u001b[1;32m      2\u001b[0m \u001b[0;34m\u001b[0m\u001b[0m\n\u001b[0;32m----> 3\u001b[0;31m \u001b[0;32mfrom\u001b[0m \u001b[0mmemory_profiler\u001b[0m \u001b[0;32mimport\u001b[0m \u001b[0mprofile\u001b[0m\u001b[0;34m\u001b[0m\u001b[0;34m\u001b[0m\u001b[0m\n\u001b[0m\u001b[1;32m      4\u001b[0m \u001b[0;34m\u001b[0m\u001b[0m\n\u001b[1;32m      5\u001b[0m \u001b[0;34m@\u001b[0m\u001b[0mprofile\u001b[0m\u001b[0;34m\u001b[0m\u001b[0;34m\u001b[0m\u001b[0m\n",
            "\u001b[0;31mModuleNotFoundError\u001b[0m: No module named 'memory_profiler'",
            "",
            "\u001b[0;31m---------------------------------------------------------------------------\u001b[0;32m\nNOTE: If your import is failing due to a missing package, you can\nmanually install dependencies using either !pip or !apt.\n\nTo view examples of installing some common dependencies, click the\n\"Open Examples\" button below.\n\u001b[0;31m---------------------------------------------------------------------------\u001b[0m\n"
          ],
          "errorDetails": {
            "actions": [
              {
                "action": "open_url",
                "actionText": "Open Examples",
                "url": "/notebooks/snippets/importing_libraries.ipynb"
              }
            ]
          }
        }
      ]
    },
    {
      "cell_type": "code",
      "source": [
        "# 17. Write a Python program to create and write a list of numbers to a file, one number per line.\n",
        "\n",
        "def write_numbers_to_file(filename, numbers):\n",
        "    try:\n",
        "        with open(filename, 'w') as file:\n",
        "            for number in numbers:\n",
        "                file.write(f\"{number}\\n\")\n",
        "        print(f\"Successfully wrote {len(numbers)} numbers to '{filename}'.\")\n",
        "    except Exception as e:\n",
        "        print(f\"An error occurred: {e}\")\n",
        "\n",
        "number_list = list(range(1, 11))\n",
        "file_name = \"numbers.txt\"\n",
        "\n",
        "write_numbers_to_file(file_name, number_list)\n"
      ],
      "metadata": {
        "colab": {
          "base_uri": "https://localhost:8080/"
        },
        "id": "QAALnBdyeRbt",
        "outputId": "cdaeebc6-5a34-4fc6-d6b3-00da3a3fe83c"
      },
      "execution_count": 17,
      "outputs": [
        {
          "output_type": "stream",
          "name": "stdout",
          "text": [
            "Successfully wrote 10 numbers to 'numbers.txt'.\n"
          ]
        }
      ]
    },
    {
      "cell_type": "code",
      "source": [
        "# 18. How would you implement a basic logging setup that logs to a file with rotation after 1MB?\n",
        "\n",
        "import logging\n",
        "from logging.handlers import RotatingFileHandler\n",
        "\n",
        "# Create logger\n",
        "logger = logging.getLogger('MyLogger')\n",
        "logger.setLevel(logging.DEBUG)  # Capture all levels\n",
        "\n",
        "# Create a rotating file handler\n",
        "handler = RotatingFileHandler(\n",
        "    'app.log',       # Log file name\n",
        "    maxBytes=1 * 1024 * 1024,  # 1MB\n",
        "    backupCount=3    # Keep up to 3 backup files (app.log.1, app.log.2, ...)\n",
        ")\n",
        "\n",
        "# Set formatter\n",
        "formatter = logging.Formatter('%(asctime)s - %(levelname)s - %(message)s')\n",
        "handler.setFormatter(formatter)\n",
        "\n",
        "# Add handler to logger\n",
        "logger.addHandler(handler)\n",
        "\n",
        "# Example log messages\n",
        "for i in range(10000):\n",
        "    logger.info(f\"This is log message number {i}\")\n"
      ],
      "metadata": {
        "id": "_zen4pr3eRhi"
      },
      "execution_count": null,
      "outputs": []
    },
    {
      "cell_type": "code",
      "source": [
        "# 19.  Write a program that handles both IndexError and KeyError using a try-except block.\n",
        "\n",
        "def access_data():\n",
        "    my_list = [10, 20, 30]\n",
        "    my_dict = {'a': 1, 'b': 2}\n",
        "\n",
        "    try:\n",
        "        # Try accessing an out-of-range index\n",
        "        index = int(input(\"Enter a list index (0-2): \"))\n",
        "        print(f\"List element at index {index}: {my_list[index]}\")\n",
        "\n",
        "        # Try accessing a missing dictionary key\n",
        "        key = input(\"Enter a dictionary key ('a' or 'b'): \")\n",
        "        print(f\"Dictionary value for key '{key}': {my_dict[key]}\")\n",
        "\n",
        "    except IndexError:\n",
        "        print(\"Error: The list index you entered is out of range.\")\n",
        "\n",
        "    except KeyError:\n",
        "        print(\"Error: The dictionary key you entered does not exist.\")\n",
        "\n",
        "    except Exception as e:\n",
        "        print(f\"An unexpected error occurred: {e}\")\n",
        "\n",
        "access_data()\n"
      ],
      "metadata": {
        "colab": {
          "base_uri": "https://localhost:8080/"
        },
        "id": "SP3-1JTgkV_5",
        "outputId": "1013b138-2ac3-4cbf-943e-0e90459b62f4"
      },
      "execution_count": 19,
      "outputs": [
        {
          "output_type": "stream",
          "name": "stdout",
          "text": [
            "Enter a list index (0-2): 1\n",
            "List element at index 1: 20\n",
            "Enter a dictionary key ('a' or 'b'): c\n",
            "Error: The dictionary key you entered does not exist.\n"
          ]
        }
      ]
    },
    {
      "cell_type": "code",
      "source": [
        "# 20. How would you open a file and read its contents using a context manager in Python?\n",
        "\n",
        "filename = 'example.txt'\n",
        "\n",
        "try:\n",
        "    with open(filename, 'r') as file:\n",
        "        content = file.read()\n",
        "        print(content)\n",
        "except FileNotFoundError:\n",
        "    print(f\"Error: File '{filename}' not found.\")\n",
        "except Exception as e:\n",
        "    print(f\"An error occurred: {e}\")\n"
      ],
      "metadata": {
        "colab": {
          "base_uri": "https://localhost:8080/"
        },
        "id": "L7eIOZrFkWOU",
        "outputId": "f707fe40-e94d-44b0-e0ac-2dd1a545cf69"
      },
      "execution_count": 20,
      "outputs": [
        {
          "output_type": "stream",
          "name": "stdout",
          "text": [
            "This is a new line.\n",
            "\n"
          ]
        }
      ]
    },
    {
      "cell_type": "code",
      "source": [
        "# 21. Write a Python program that reads a file and prints the number of occurrences of a specific word.\n",
        "\n",
        "def count_word_occurrences(filename, target_word):\n",
        "    try:\n",
        "        with open(filename, 'r') as file:\n",
        "            content = file.read()\n",
        "\n",
        "            words = content.lower().split()\n",
        "            count = words.count(target_word.lower())\n",
        "\n",
        "            print(f\"The word '{target_word}' occurs {count} times in '{filename}'.\")\n",
        "    except FileNotFoundError:\n",
        "        print(f\"Error: The file '{filename}' was not found.\")\n",
        "    except Exception as e:\n",
        "        print(f\"An unexpected error occurred: {e}\")\n",
        "\n",
        "file_name = input(\"Enter the file name: \")\n",
        "word_to_find = input(\"Enter the word to search for: \")\n",
        "\n",
        "count_word_occurrences(file_name, word_to_find)\n"
      ],
      "metadata": {
        "colab": {
          "base_uri": "https://localhost:8080/"
        },
        "id": "x-2t8-cdkWRP",
        "outputId": "acc176fc-781a-4f2d-ed88-925524b6db9a"
      },
      "execution_count": 21,
      "outputs": [
        {
          "output_type": "stream",
          "name": "stdout",
          "text": [
            "Enter the file name: example.txt\n",
            "Enter the word to search for: Hello\n",
            "The word 'Hello' occurs 0 times in 'example.txt'.\n"
          ]
        }
      ]
    },
    {
      "cell_type": "code",
      "source": [
        "# 22. How can you check if a file is empty before attempting to read its contents?\n",
        "\n",
        "filename = 'example.txt'\n",
        "\n",
        "try:\n",
        "    with open(filename, 'r') as file:\n",
        "        content = file.read()\n",
        "        if not content.strip():\n",
        "            print(f\"The file '{filename}' is empty.\")\n",
        "        else:\n",
        "            print(\"File content:\\n\", content)\n",
        "except FileNotFoundError:\n",
        "    print(\"File not found.\")\n"
      ],
      "metadata": {
        "id": "Sq0FoUgQkWoT"
      },
      "execution_count": null,
      "outputs": []
    },
    {
      "cell_type": "code",
      "source": [
        "# 23. Write a Python program that writes to a log file when an error occurs during file handling.\n",
        "\n",
        "import logging\n",
        "\n",
        "logging.basicConfig(\n",
        "    filename='file_errors.log',\n",
        "    level=logging.ERROR,\n",
        "    format='%(asctime)s - %(levelname)s - %(message)s'\n",
        ")\n",
        "\n",
        "def read_file(filename):\n",
        "    try:\n",
        "        with open(filename, 'r') as file:\n",
        "            content = file.read()\n",
        "            print(\"File content:\\n\", content)\n",
        "    except FileNotFoundError as e:\n",
        "        print(f\"Error: The file '{filename}' was not found.\")\n",
        "        logging.error(f\"FileNotFoundError: {e}\")\n",
        "    except PermissionError as e:\n",
        "        print(f\"Error: Permission denied to access '{filename}'.\")\n",
        "        logging.error(f\"PermissionError: {e}\")\n",
        "    except Exception as e:\n",
        "        print(f\"An unexpected error occurred: {e}\")\n",
        "        logging.error(f\"UnexpectedError: {e}\")\n",
        "\n",
        "filename = input(\"Enter the file name to read: \")\n",
        "read_file(filename)\n"
      ],
      "metadata": {
        "colab": {
          "base_uri": "https://localhost:8080/"
        },
        "id": "TxJNPYvskWrJ",
        "outputId": "54602cd6-8991-4429-9eed-88080e6b2839"
      },
      "execution_count": 23,
      "outputs": [
        {
          "output_type": "stream",
          "name": "stdout",
          "text": [
            "Enter the file name to read: example.txt\n",
            "File content:\n",
            " This is a new line.\n",
            "\n"
          ]
        }
      ]
    }
  ]
}